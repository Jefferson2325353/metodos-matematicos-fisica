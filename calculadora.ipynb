{
  "nbformat": 4,
  "nbformat_minor": 0,
  "metadata": {
    "colab": {
      "provenance": [],
      "authorship_tag": "ABX9TyMY+kPkaXg/4zVn6sEYHj37",
      "include_colab_link": true
    },
    "kernelspec": {
      "name": "python3",
      "display_name": "Python 3"
    },
    "language_info": {
      "name": "python"
    }
  },
  "cells": [
    {
      "cell_type": "markdown",
      "metadata": {
        "id": "view-in-github",
        "colab_type": "text"
      },
      "source": [
        "<a href=\"https://colab.research.google.com/github/Jefferson2325353/metodos-matematicos-fisica/blob/main/calculadora.ipynb\" target=\"_parent\"><img src=\"https://colab.research.google.com/assets/colab-badge.svg\" alt=\"Open In Colab\"/></a>"
      ]
    },
    {
      "cell_type": "code",
      "execution_count": null,
      "metadata": {
        "colab": {
          "base_uri": "https://localhost:8080/"
        },
        "id": "2f4KKZy5jv_N",
        "outputId": "2837e006-146a-4e43-c2e3-0bc8fdc249a5"
      },
      "outputs": [
        {
          "output_type": "stream",
          "name": "stdout",
          "text": [
            "Calculadora trigonométrica\n",
            "1. Seno\n",
            "2. Coseno\n",
            "3. Tangente\n",
            "4. Salir\n",
            "Elige una opción: 5\n",
            "Opción no válida. Intenta de nuevo.\n",
            "Calculadora trigonométrica\n",
            "1. Seno\n",
            "2. Coseno\n",
            "3. Tangente\n",
            "4. Salir\n"
          ]
        }
      ],
      "source": [
        "import math\n",
        "\n",
        "\n",
        "def sin_taylor(x_rad, tol=1e-10, max_terms=100):                #Empieza la función que calcula el seno usando la serie de Taylor; recibe el ángulo en radianes, una tolerancia y un máximo de términos\n",
        "    \"\"\"Aproxima el seno utilizando la serie de Taylor.\"\"\"\n",
        "    term = x_rad                                                # El primer pedacito de la serie es el propio ángulo; lo guardamos en term\n",
        "    result = term                                               #Empezamos la suma con ese primer pedacito\n",
        "    n = 1                                                       #Iniciamos el contador de términos con 1\n",
        "    while abs(term) >= tol and n < max_terms:                   #Bucle while que sigue sumando términos mientras sean grandes y no pasemos el límite\n",
        "        term *= -x_rad * x_rad / ((2 * n) * (2 * n + 1))        #Calcula el siguiente pedacito de la serie usando una fórmula que alterna signos y aumenta potencias y factoriales\n",
        "        result += term                                          #Añadimos ese nuevo pedacito al resultado total\n",
        "        n += 1                                                  #Avanzamos al siguiente término\n",
        "    return result                                               #Entregamos la aproximación del seno calculada\n",
        "\n",
        "\n",
        "def cos_taylor(x_rad, tol=1e-10, max_terms=100):                #Empieza la función que calcula el coseno con serie de Taylor\n",
        "    \"\"\"Aproxima el coseno utilizando la serie de Taylor.\"\"\"\n",
        "    term = 1.0                                                  #El primer pedacito del coseno es 1\n",
        "    result = term                                               #Empezamos la suma con ese 1 inicial\n",
        "    n = 1                                                       #Iniciamos el contador de términos para coseno\n",
        "    while abs(term) >= tol and n < max_terms:                   #Bucle while que repite mientras el término sea significativo y no supere el límite\n",
        "        term *= -x_rad * x_rad / ((2 * n - 1) * (2 * n))        #Calcula el siguiente pedacito del coseno usando una fórmula parecida a la del seno pero adaptada\n",
        "        result += term                                          #Sumamos el término recién calculado al resultado\n",
        "        n += 1                                                  #Pasamos al siguiente término\n",
        "    return result                                               #Devolvemos la aproximación del coseno\n",
        "\n",
        "\n",
        "def main():                                                     #Comienza la función principal que mostrará el menú\n",
        "    while True:                                                 # Repetimos el menú hasta que el usuario quiera salir\n",
        "        print(\"Calculadora trigonométrica\")                     #Imprime el título “Calculadora trigonométrica”\n",
        "        print(\"1. Seno\")                                        #Muestra la opción 1: Seno\n",
        "        print(\"2. Coseno\")                                      #Muestra la opción 2: Coseno\n",
        "        print(\"3. Tangente\")                                    #Muestra la opción 3: Tangente\n",
        "        print(\"4. Salir\")                                       #Muestra la opción 4: Salir\n",
        "        opcion = input(\"Elige una opción: \")                    #Pide al usuario que elija una opción y la guarda en opcion\n",
        "\n",
        "        if opcion == \"1\":                                       #Si elige “1”, entonces quiere calcular un seno\n",
        "            grados = float(input(\"Introduce el ángulo en grados: \"))       #Pide el ángulo en grados y lo convierte a número flotante\n",
        "            rad = math.radians(grados)                                     # Convierte esos grados a radianes usando la herramienta math.radians\n",
        "            print(f\"sin({grados}) = {sin_taylor(rad)}\")                    #Muestra el resultado del seno calculado con nuestra función\n",
        "        elif opcion == \"2\":                                                #Si elige “2”, quiere calcular un coseno\n",
        "            grados = float(input(\"Introduce el ángulo en grados: \"))       #pide el ángulo en grados para el coseno\n",
        "            rad = math.radians(grados)                                     # Convierte ese ángulo a radianes igual que antes\n",
        "            print(f\"cos({grados}) = {cos_taylor(rad)}\")                    #Muestra el resultado del coseno usando la función cos_taylor\n",
        "        elif opcion == \"3\":                                                #Si elige “3”, cae en esta parte: mensaje de que la tangente no está lista\n",
        "            print(\"Función tangente no implementada aún.\")                 # Imprime “Función tangente no implementada aún.”\n",
        "        elif opcion == \"4\":                                                #Si elige “4”, es hora de salir del programa\n",
        "            print(\"¡Hasta luego!\")                                         #Despedida “¡Hasta luego!”\n",
        "            break                                                          #Rompe el bucle y termina el programa\n",
        "        else:                                                              #Si el usuario escribió otra cosa que no es 1–4, va aquí\n",
        "            print(\"Opción no válida. Intenta de nuevo.\")                   #: Mensaje de “Opción no válida” para avisar del error\n",
        "\n",
        "\n",
        "if __name__ == \"__main__\":                                                 #Comprueba si este archivo se ejecuta directamente\n",
        "    main()                                                                 #Llama a la función principal para iniciar el programa"
      ]
    }
  ]
}