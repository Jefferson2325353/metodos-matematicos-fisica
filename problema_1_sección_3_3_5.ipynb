{
  "nbformat": 4,
  "nbformat_minor": 0,
  "metadata": {
    "colab": {
      "provenance": [],
      "authorship_tag": "ABX9TyNFDGHsInjhF9BNrn4AI0Cg",
      "include_colab_link": true
    },
    "kernelspec": {
      "name": "python3",
      "display_name": "Python 3"
    },
    "language_info": {
      "name": "python"
    }
  },
  "cells": [
    {
      "cell_type": "markdown",
      "metadata": {
        "id": "view-in-github",
        "colab_type": "text"
      },
      "source": [
        "<a href=\"https://colab.research.google.com/github/Jefferson2325353/metodos-matematicos-fisica/blob/main/problema_1_secci%C3%B3n_3_3_5.ipynb\" target=\"_parent\"><img src=\"https://colab.research.google.com/assets/colab-badge.svg\" alt=\"Open In Colab\"/></a>"
      ]
    },
    {
      "cell_type": "code",
      "execution_count": 2,
      "metadata": {
        "colab": {
          "base_uri": "https://localhost:8080/"
        },
        "id": "DXH5jdSaHLhI",
        "outputId": "1c52c4da-cd4d-4cc0-c6af-a7d04775ef4c"
      },
      "outputs": [
        {
          "output_type": "stream",
          "name": "stdout",
          "text": [
            "=== (a) ===\n",
            "Bx = [1, x, x**2]\n",
            "By = [1, y, y**2]\n",
            "Bxy = [[1, y, y**2], [x, x*y, x*y**2], [x**2, x**2*y, x**2*y**2]]\n",
            "\n",
            "=== (b) ===\n",
            "a = [3, 1, 1] b = [1, 1, 0]\n",
            "C =\n",
            "⎡3  3  0⎤\n",
            "⎢       ⎥\n",
            "⎢1  1  0⎥\n",
            "⎢       ⎥\n",
            "⎣1  1  0⎦\n",
            "Exp. monomios (b) = x**2*y + x**2 + x*y + x + 3*y + 3\n",
            "\n",
            "=== (c) ===\n",
            "(alpha, beta, gamma) = (1/3, 1, 2/3)\n",
            "\n",
            "=== (d) ===\n",
            "a_tilde = [10/3, 1, 2/3] b_tilde = [1, 1, 0]\n",
            "C_tilde =\n",
            "⎡10/3  10/3  0⎤\n",
            "⎢             ⎥\n",
            "⎢ 1     1    0⎥\n",
            "⎢             ⎥\n",
            "⎣2/3   2/3   0⎦\n",
            "Exp. monomios (d) = x**2*y + x**2 + x*y + x + 3*y + 3\n"
          ]
        }
      ],
      "source": [
        "# -*- coding: utf-8 -*-\n",
        "\"\"\"\n",
        "Script SymPy para resolver los incisos (a)–(d) con explicaciones línea por línea.\n",
        "Cada sección imprime sus resultados y verifica las igualdades clave.\n",
        "\"\"\"\n",
        "import sympy as sp            # Importamos SymPy y le asignamos el alias 'sp'.\n",
        "x, y = sp.symbols('x y')      # Definimos símbolos (variables) simbólicos x e y.\n",
        "\n",
        "# (a) BASES MONOMIALES Y BASE PRODUCTO\n",
        "Bx = [sp.Integer(1), x, x**2]  # Base en x.\n",
        "By = [sp.Integer(1), y, y**2]  # Base en y.\n",
        "Bxy = [[Bx[i]*By[j] for j in range(3)] for i in range(3)]  # Base producto x^i y^j.\n",
        "\n",
        "def coeffs_in_monomial(poly, var):\n",
        "    \"\"\"Coeficientes [c0, c1, c2] de poly = c0 + c1*var + c2*var**2.\"\"\"\n",
        "    poly = sp.expand(poly)\n",
        "    return [poly.coeff(var, k) for k in range(3)]\n",
        "\n",
        "def outer_product(a, b):\n",
        "    \"\"\"Producto exterior a ⊗ b como matriz 3x3 (i = filas, j = columnas).\"\"\"\n",
        "    return sp.Matrix([[sp.simplify(a[i]*b[j]) for j in range(3)] for i in range(3)])\n",
        "\n",
        "def expansion_from_matrix(C, x, y):\n",
        "    \"\"\"∑_{i,j} C[i,j] x^i y^j, expandido.\"\"\"\n",
        "    s = sp.Integer(0)\n",
        "    for i in range(3):\n",
        "        for j in range(3):\n",
        "            s += C[i, j] * (x**i) * (y**j)\n",
        "    return sp.expand(s)\n",
        "\n",
        "# (b) MATRIZ DE COMPONENTES EN BASE MONOMIAL\n",
        "pP = x**2 + x + 3\n",
        "pG = y + 1\n",
        "a = coeffs_in_monomial(pP, x)\n",
        "b = coeffs_in_monomial(pG, y)\n",
        "C = outer_product(a, b)\n",
        "expansion_b = expansion_from_matrix(C, x, y)\n",
        "\n",
        "# (c) COEFICIENTES EN BASE DE LEGENDRE PARA x^2 + x\n",
        "P0x = sp.Integer(1)\n",
        "P1x = x\n",
        "P2x = sp.Rational(1,2)*(3*x**2 - 1)\n",
        "alpha, beta, gamma = sp.symbols('alpha beta gamma')\n",
        "sol_c = sp.solve(sp.Eq(sp.expand(x**2 + x), sp.expand(alpha*P0x + beta*P1x + gamma*P2x)),\n",
        "                 [alpha, beta, gamma], dict=True)[0]\n",
        "\n",
        "# (d) COMPONENTES EN BASE DE LEGENDRE PARA pP(x)=x^2+x+3, pG(y)=y+1\n",
        "A, B, Gm = sp.symbols('A B Gm')\n",
        "sol_P = sp.solve(sp.Eq(sp.expand(pP), sp.expand(A*P0x + B*P1x + Gm*P2x)),\n",
        "                 [A, B, Gm], dict=True)[0]\n",
        "a_tilde = [sp.simplify(sol_P[A]), sp.simplify(sol_P[B]), sp.simplify(sol_P[Gm])]\n",
        "\n",
        "P0y = sp.Integer(1); P1y = y; P2y = sp.Rational(1,2)*(3*y**2 - 1)\n",
        "D, E, F = sp.symbols('D E F')\n",
        "sol_G = sp.solve(sp.Eq(sp.expand(pG), sp.expand(D*P0y + E*P1y + F*P2y)),\n",
        "                 [D, E, F], dict=True)[0]\n",
        "b_tilde = [sp.simplify(sol_G[D]), sp.simplify(sol_G[E]), sp.simplify(sol_G[F])]\n",
        "C_tilde = outer_product(a_tilde, b_tilde)\n",
        "\n",
        "# Verificaciones rápidas\n",
        "assert expansion_b == sp.expand(pP*pG)\n",
        "expansion_d_leg = sum(C_tilde[i, j]*[P0x,P1x,P2x][i]*[P0y,P1y,P2y][j] for i in range(3) for j in range(3))\n",
        "expansion_d_monomios = sp.expand(expansion_d_leg)\n",
        "assert expansion_d_monomios == expansion_b\n",
        "\n",
        "if __name__ == \"__main__\":\n",
        "    # Impresiones de resultados\n",
        "    print(\"=== (a) ===\")\n",
        "    print(\"Bx =\", Bx)\n",
        "    print(\"By =\", By)\n",
        "    print(\"Bxy =\", Bxy)\n",
        "    print(\"\\n=== (b) ===\")\n",
        "    print(\"a =\", a, \"b =\", b)\n",
        "    print(\"C =\"); sp.pprint(C)\n",
        "    print(\"Exp. monomios (b) =\", expansion_b)\n",
        "    print(\"\\n=== (c) ===\")\n",
        "    print(\"(alpha, beta, gamma) =\", (sol_c[alpha], sol_c[beta], sol_c[gamma]))\n",
        "    print(\"\\n=== (d) ===\")\n",
        "    print(\"a_tilde =\", a_tilde, \"b_tilde =\", b_tilde)\n",
        "    print(\"C_tilde =\"); sp.pprint(C_tilde)\n",
        "    print(\"Exp. monomios (d) =\", expansion_d_monomios)\n"
      ]
    }
  ]
}