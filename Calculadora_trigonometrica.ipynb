{
  "nbformat": 4,
  "nbformat_minor": 0,
  "metadata": {
    "colab": {
      "provenance": [],
      "authorship_tag": "ABX9TyM6mXVc/CtH6KtpLegiHecK",
      "include_colab_link": true
    },
    "kernelspec": {
      "name": "python3",
      "display_name": "Python 3"
    },
    "language_info": {
      "name": "python"
    }
  },
  "cells": [
    {
      "cell_type": "markdown",
      "metadata": {
        "id": "view-in-github",
        "colab_type": "text"
      },
      "source": [
        "<a href=\"https://colab.research.google.com/github/Jefferson2325353/metodos-matematicos-fisica/blob/main/Calculadora_trigonometrica.ipynb\" target=\"_parent\"><img src=\"https://colab.research.google.com/assets/colab-badge.svg\" alt=\"Open In Colab\"/></a>"
      ]
    },
    {
      "cell_type": "code",
      "execution_count": null,
      "metadata": {
        "colab": {
          "base_uri": "https://localhost:8080/"
        },
        "id": "a79lsslPtbSK",
        "outputId": "bb8de436-6b70-4b31-ba68-db5d0b56816f"
      },
      "outputs": [
        {
          "output_type": "stream",
          "name": "stdout",
          "text": [
            "Calculadora trigonométrica\n",
            "1. Seno\n",
            "2. Coseno\n",
            "3. Tangente\n",
            "4. Salir\n",
            "Elige una opción: 1\n",
            "Introduce el ángulo en grados: 60\n",
            "sin(60.0) = 0.8660254037844324\n",
            "Calculadora trigonométrica\n",
            "1. Seno\n",
            "2. Coseno\n",
            "3. Tangente\n",
            "4. Salir\n",
            "Elige una opción: 1\n",
            "Introduce el ángulo en grados: 30\n",
            "sin(30.0) = 0.4999999999999643\n",
            "Calculadora trigonométrica\n",
            "1. Seno\n",
            "2. Coseno\n",
            "3. Tangente\n",
            "4. Salir\n",
            "Elige una opción: 2\n",
            "Introduce el ángulo en grados: 45\n",
            "cos(45.0) = 0.7071067811865465\n",
            "Calculadora trigonométrica\n",
            "1. Seno\n",
            "2. Coseno\n",
            "3. Tangente\n",
            "4. Salir\n"
          ]
        }
      ],
      "source": [
        "import math                                              # Traemos la caja de herramientas de matemáticas.\n",
        "\n",
        "                                                         # Aquí decimos cuán pequeño error permitimos y cuántas veces sumamos.\n",
        "TOL = 1e-10                                              # Si un pedacito es más pequeño que esto, paramos.\n",
        "MAX_TERMS = 100                                          # No sumamos más de 100 pedacitos.\n",
        "\n",
        "while True:                                              # Repetimos el menú hasta que queramos salir.\n",
        "    print(\"Calculadora trigonométrica\")                  # Mostramos el título.\n",
        "    print(\"1. Seno\")                                     # Opción para calcular seno.\n",
        "    print(\"2. Coseno\")                                   # Opción para calcular coseno.\n",
        "    print(\"3. Tangente\")                                 # Opción de tangente (todavía no funciona).\n",
        "    print(\"4. Salir\")                                    # Opción para terminar el programa.\n",
        "    opcion = input(\"Elige una opción: \")                 # Pedimos al niño que escoja.\n",
        "\n",
        "    if opcion == \"1\":                                    # Si eligió la opción 1...\n",
        "        grados = float(input(\"Introduce el ángulo en grados: \"))  # Pedimos el ángulo.\n",
        "        x_rad = math.radians(grados)                     # Lo convertimos a radianes para las fórmulas.\n",
        "        term = x_rad                                     # Primer pedacito de la suma del seno.\n",
        "        result = term                                    # El resultado empieza con ese pedacito.\n",
        "        n = 1                                            # Contamos cuántos pedacitos llevamos.\n",
        "        while abs(term) >= TOL and n < MAX_TERMS:        # Sumamos más mientras sean importantes.\n",
        "            term *= -x_rad * x_rad / ((2 * n) * (2 * n + 1))  # Calculamos el siguiente pedacito.\n",
        "            result += term                               # Lo añadimos al resultado.\n",
        "            n += 1                                       # Decimos que usamos un pedacito más.\n",
        "        print(f\"sin({grados}) = {result}\")               # Mostramos el resultado del seno.\n",
        "    elif opcion == \"2\":                                  # Si eligió la opción 2...\n",
        "        grados = float(input(\"Introduce el ángulo en grados: \"))  # Pedimos el ángulo.\n",
        "        x_rad = math.radians(grados)                     # Lo convertimos a radianes.\n",
        "        term = 1.0                                       # Primer pedacito de la suma del coseno.\n",
        "        result = term                                    # El resultado empieza con ese 1.\n",
        "        n = 1                                            # Contamos los pedacitos.\n",
        "        while abs(term) >= TOL and n < MAX_TERMS:        # Sumamos mientras los pedacitos sean importantes.\n",
        "            term *= -x_rad * x_rad / ((2 * n - 1) * (2 * n))  # Calculamos el siguiente pedacito.\n",
        "            result += term                               # Lo añadimos al total.\n",
        "            n += 1                                       # Contamos un pedacito más.\n",
        "        print(f\"cos({grados}) = {result}\")               # Mostramos el resultado del coseno.\n",
        "    elif opcion == \"3\":                                  # Si eligió la opción 3...\n",
        "        print(\"Función tangente no implementada aún.\")   # Avisamos que no está lista.\n",
        "    elif opcion == \"4\":                                  # Si eligió la opción 4...\n",
        "        print(\"¡Hasta luego!\")                           # Decimos adiós.\n",
        "        break                                            # Salimos del ciclo para terminar.\n",
        "    else:                                                # Si escribió otra cosa...\n",
        "        print(\"Opción no válida. Intenta de nuevo.\")     # Le decimos que se equivocó.\n"
      ]
    }
  ]
}