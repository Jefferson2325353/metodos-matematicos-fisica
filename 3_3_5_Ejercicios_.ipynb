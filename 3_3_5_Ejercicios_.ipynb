{
  "nbformat": 4,
  "nbformat_minor": 0,
  "metadata": {
    "colab": {
      "provenance": [],
      "authorship_tag": "ABX9TyP4eBz86y71pk5GqxFi7u5C",
      "include_colab_link": true
    },
    "kernelspec": {
      "name": "python3",
      "display_name": "Python 3"
    },
    "language_info": {
      "name": "python"
    }
  },
  "cells": [
    {
      "cell_type": "markdown",
      "metadata": {
        "id": "view-in-github",
        "colab_type": "text"
      },
      "source": [
        "<a href=\"https://colab.research.google.com/github/Jefferson2325353/metodos-matematicos-fisica/blob/main/3_3_5_Ejercicios_.ipynb\" target=\"_parent\"><img src=\"https://colab.research.google.com/assets/colab-badge.svg\" alt=\"Open In Colab\"/></a>"
      ]
    },
    {
      "cell_type": "code",
      "execution_count": 3,
      "metadata": {
        "colab": {
          "base_uri": "https://localhost:8080/"
        },
        "id": "VRpdkl_y2cyv",
        "outputId": "32ef48d9-85d2-47c9-f2fb-ea3c5f973441"
      },
      "outputs": [
        {
          "output_type": "stream",
          "name": "stdout",
          "text": [
            "Polinomio p(x,y) expandido:\n",
            "  5*x**2 + 4*x*y + 3*x + 7*y**2 - y + 2 \n",
            "\n",
            "[c^{ij}] por método A — Leer coeficientes\n",
            "          y^0       y^1       y^2\n",
            "x^0          2       -1        7\n",
            "x^1          3        4        0\n",
            "x^2          5        0        0\n",
            "\n",
            "[c^{ij}] por método B — Derivadas en (0,0)\n",
            "          y^0       y^1       y^2\n",
            "x^0          2       -1        7\n",
            "x^1          3        4        0\n",
            "x^2          5        0        0\n",
            "\n",
            "¿Coinciden ambos métodos? -> Sí ✅ \n",
            "\n",
            "Base monomial en x: [1, x, x**2]\n",
            "Base monomial en y: [1, y, y**2]\n"
          ]
        }
      ],
      "source": [
        "# 1) Importamos SymPy y factorial\n",
        "import sympy as sp                 # 'sp' es el alias usual de SymPy\n",
        "from math import factorial         # factorial(n) = n!\n",
        "\n",
        "# 2) Declaramos las variables simbólicas\n",
        "x, y = sp.symbols('x y')           # x,y serán nuestras variables del polinomio p(x,y)\n",
        "\n",
        "def bases_monomiales_deg2():\n",
        "    \"\"\"\n",
        "    Devuelve las bases monomiales {1, x, x^2} y {1, y, y^2}.\n",
        "    \"\"\"\n",
        "    Bx = [x**i for i in range(3)]  # [x^0, x^1, x^2] = [1, x, x**2]\n",
        "    By = [y**j for j in range(3)]  # [y^0, y^1, y^2] = [1, y, y**2]\n",
        "    return Bx, By\n",
        "\n",
        "def componentes_por_coeficientes(p):\n",
        "    \"\"\"\n",
        "    Retorna la matriz 3x3 C con C[i,j] = coeficiente de x^i y^j en p(x,y).\n",
        "    \"\"\"\n",
        "    p = sp.expand(p)                       # Asegura p expandido\n",
        "    P = sp.Poly(p, x, y)                   # Polinomio bivariante en SymPy\n",
        "    C = [[P.coeff_monomial(x**i * y**j)    # Lee el coeficiente del monomio x^i y^j\n",
        "          for j in range(3)]               # columnas = potencias de y (j=0,1,2)\n",
        "         for i in range(3)]                # filas = potencias de x (i=0,1,2)\n",
        "    return sp.Matrix(C)                    # Devuelve como matriz de SymPy\n",
        "\n",
        "def componentes_por_derivadas(p):\n",
        "    \"\"\"\n",
        "    Retorna la matriz 3x3 C con C[i,j] = (1/(i! j!)) * ∂^i_x ∂^j_y p |_(x=0,y=0).\n",
        "    \"\"\"\n",
        "    p = sp.expand(p)                       # Prolijidad\n",
        "    C = []\n",
        "    for i in range(3):                     # i = # de derivadas respecto a x\n",
        "        fila = []\n",
        "        for j in range(3):                 # j = # de derivadas respecto a y\n",
        "            deriv_ij = sp.diff(p, x, i, y, j)    # Deriva i veces en x y j en y\n",
        "            valor_00 = deriv_ij.subs({x: 0, y: 0})\n",
        "            cij = sp.simplify(valor_00 / (factorial(i) * factorial(j)))\n",
        "            fila.append(cij)\n",
        "        C.append(fila)\n",
        "    return sp.Matrix(C)\n",
        "\n",
        "def imprimir_matriz_c(C, titulo=\"[c^{ij}]\"):\n",
        "    \"\"\"\n",
        "    Imprime C con rótulos de potencias: filas=i (x^i), columnas=j (y^j).\n",
        "    \"\"\"\n",
        "    print(titulo)\n",
        "    print(\"          y^0       y^1       y^2\")\n",
        "    for i in range(3):\n",
        "        fila = f\"x^{i}  \"\n",
        "        for j in range(3):\n",
        "            fila += f\"{str(C[i,j]):>9}\"\n",
        "        print(fila)\n",
        "    print()\n",
        "\n",
        "# === EDITA SOLO ESTA LÍNEA: tu p(x,y) con grados ≤ 2 en x y en y ===\n",
        "p = 2 + 3*x - y + 5*x**2 + 4*x*y + 7*y**2\n",
        "\n",
        "# Calcula matrices por ambos métodos\n",
        "C_coef = componentes_por_coeficientes(p)\n",
        "C_der  = componentes_por_derivadas(p)\n",
        "\n",
        "# Muestra resultados\n",
        "print(\"Polinomio p(x,y) expandido:\\n \", sp.expand(p), \"\\n\")\n",
        "imprimir_matriz_c(C_coef, \"[c^{ij}] por método A — Leer coeficientes\")\n",
        "imprimir_matriz_c(C_der,  \"[c^{ij}] por método B — Derivadas en (0,0)\")\n",
        "print(\"¿Coinciden ambos métodos? ->\", \"Sí ✅\" if (C_coef == C_der) else \"No ❌\", \"\\n\")\n",
        "\n",
        "# (Opcional) ver las bases\n",
        "Bx, By = bases_monomiales_deg2()\n",
        "print(\"Base monomial en x:\", Bx)\n",
        "print(\"Base monomial en y:\", By)\n"
      ]
    }
  ]
}